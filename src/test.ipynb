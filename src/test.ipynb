{
  "nbformat": 4,
  "nbformat_minor": 0,
  "metadata": {
    "language_info": {
      "codemirror_mode": {
        "name": "ipython",
        "version": 3
      },
      "file_extension": ".py",
      "mimetype": "text/x-python",
      "name": "python",
      "nbconvert_exporter": "python",
      "pygments_lexer": "ipython3",
      "version": "3.8.5-final"
    },
    "orig_nbformat": 2,
    "kernelspec": {
      "name": "python3",
      "display_name": "Python 3.8.5 64-bit ('py38jupyter': conda)",
      "metadata": {
        "interpreter": {
          "hash": "ab9111e2d1eb7638a6ee3590029ebb66ef2184c5b4604a96c97d54fc911db079"
        }
      }
    },
    "colab": {
      "name": "test.ipynb",
      "provenance": [],
      "toc_visible": true
    },
    "accelerator": "GPU"
  },
  "cells": [
    {
      "cell_type": "markdown",
      "metadata": {
        "id": "3cTu7X1Ujagx"
      },
      "source": [
        "taken from [link](https://keras.io/examples/generative/lstm_character_level_text_generation/)\n",
        "  \n",
        "data from [link](https://www.kaggle.com/namanj27/astronomers-telegram-dataset?select=Processed_Atels.csv)"
      ]
    },
    {
      "cell_type": "markdown",
      "metadata": {
        "id": "XcF6qaOtjag1"
      },
      "source": [
        "# Setup"
      ]
    },
    {
      "cell_type": "code",
      "metadata": {
        "id": "e314meGxjag3"
      },
      "source": [
        "from tensorflow import keras\n",
        "from tensorflow.keras import layers\n",
        "\n",
        "import numpy as np\n",
        "import random\n",
        "import io\n",
        "import pandas as pd"
      ],
      "execution_count": 2,
      "outputs": []
    },
    {
      "cell_type": "markdown",
      "metadata": {
        "id": "FlHLtqH-jag4"
      },
      "source": [
        "# Prepare the Data\r\n",
        "- upload `Processed_Atels.csv` to runtime "
      ]
    },
    {
      "cell_type": "code",
      "metadata": {
        "id": "_-SlUdHlkWiz"
      },
      "source": [
        "data = pd.read_csv(\"Processed_Atels.csv\")"
      ],
      "execution_count": 4,
      "outputs": []
    },
    {
      "cell_type": "code",
      "metadata": {
        "tags": [],
        "colab": {
          "base_uri": "https://localhost:8080/"
        },
        "id": "87zx22Uyjag5",
        "outputId": "d323cca8-e508-40fd-e5ba-7571fdacae86"
      },
      "source": [
        "text_processed = data[\"Text processed\"]\n",
        "text = \"\"\n",
        "for row in text_processed:\n",
        "    text += row\n",
        "\n",
        "print(\"Corpus length:\", len(text))\n",
        "chars = sorted(list(set(text)))\n",
        "print(\"Total chars:\", len(chars))\n",
        "char_indices = dict((c, i) for i, c in enumerate(chars))\n",
        "indices_char = dict((i, c) for i, c in enumerate(chars))\n",
        "# print(char_indices)\n",
        "# print(indices_char)\n",
        "\n",
        "maxlen = 40\n",
        "step = 3\n",
        "sentences = []\n",
        "next_chars = []\n",
        "for i in range(0, len(text) - maxlen, step):\n",
        "    sentences.append(text[i : i + maxlen]) # add 40 chars from i to sentences\n",
        "    next_chars.append(text[i + maxlen]) # add the next char to next_chars\n",
        "print(\"Number of sequences:\", len(sentences))\n",
        "\n",
        "x = np.zeros((len(sentences), maxlen, len(chars)), dtype=np.bool)\n",
        "y = np.zeros((len(sentences), len(chars)), dtype=np.bool)\n",
        "for i, sentence in enumerate(sentences):\n",
        "    for t, char in enumerate(sentence):\n",
        "        # print(t, char)\n",
        "        x[i, t, char_indices[char]] = 1\n",
        "    y[i, char_indices[next_chars[i]]] = 1"
      ],
      "execution_count": 13,
      "outputs": [
        {
          "output_type": "stream",
          "text": [
            "Corpus length: 1940271\n",
            "Total chars: 108\n",
            "Number of sequences: 646744\n"
          ],
          "name": "stdout"
        }
      ]
    },
    {
      "cell_type": "markdown",
      "metadata": {
        "id": "56lo6q1tIlVH"
      },
      "source": [
        "* `text` is a list of characters from data. `text[0]` = `w`, `text[:5]` = `We re`\r\n",
        "* `sentences` is a list of sentences of length `maxlen` from data `text`, incremented by `step` \r\n",
        "    * `sentences[0]` : We report spectroscopic observations of | `next_char[0]` : A\r\n",
        "    * `sentences[1]` : report spectroscopic observations of AT2 | `next_char[1]` : 0\r\n",
        "    * `sentences[2]` : ort spectroscopic observations of AT2018 | `next_char[2]` : 1\r\n",
        "* `x.shape` (646744, 40, 108)\r\n",
        "* `y.shape` (646744, 108)"
      ]
    },
    {
      "cell_type": "markdown",
      "metadata": {
        "id": "jo8Rr0jZjag5"
      },
      "source": [
        "# Build the model: a single LSTM layer"
      ]
    },
    {
      "cell_type": "code",
      "metadata": {
        "id": "WY6swYiwjag6"
      },
      "source": [
        "model = keras.Sequential(\n",
        "    [\n",
        "        keras.Input(shape=(maxlen, len(chars))),\n",
        "        layers.LSTM(128),\n",
        "        layers.Dense(len(chars), activation=\"softmax\"),\n",
        "    ]\n",
        ")\n",
        "optimizer = keras.optimizers.RMSprop(learning_rate=0.01)\n",
        "model.compile(loss=\"categorical_crossentropy\", optimizer=optimizer)"
      ],
      "execution_count": 26,
      "outputs": []
    },
    {
      "cell_type": "code",
      "metadata": {
        "id": "99SZslcLMaeK",
        "outputId": "1daea1f1-e730-4292-a676-a7808a5564d2",
        "colab": {
          "base_uri": "https://localhost:8080/"
        }
      },
      "source": [
        "model"
      ],
      "execution_count": 27,
      "outputs": [
        {
          "output_type": "execute_result",
          "data": {
            "text/plain": [
              "<tensorflow.python.keras.engine.sequential.Sequential at 0x7f860ae575c0>"
            ]
          },
          "metadata": {
            "tags": []
          },
          "execution_count": 27
        }
      ]
    },
    {
      "cell_type": "markdown",
      "metadata": {
        "id": "EJ-M4y0bjag6"
      },
      "source": [
        "# Prepare the text sampling function"
      ]
    },
    {
      "cell_type": "code",
      "metadata": {
        "id": "zNMsMuQAjag6"
      },
      "source": [
        "def sample(preds, temperature=1.0):\n",
        "    # helper function to sample an index from a probability array\n",
        "    preds = np.asarray(preds).astype(\"float64\")\n",
        "    preds = np.log(preds) / temperature\n",
        "    exp_preds = np.exp(preds)\n",
        "    preds = exp_preds / np.sum(exp_preds)\n",
        "    probas = np.random.multinomial(1, preds, 1)\n",
        "    return np.argmax(probas)"
      ],
      "execution_count": 28,
      "outputs": []
    },
    {
      "cell_type": "markdown",
      "metadata": {
        "id": "jZUsG58Djag7"
      },
      "source": [
        "# Train the model"
      ]
    },
    {
      "cell_type": "code",
      "metadata": {
        "colab": {
          "base_uri": "https://localhost:8080/"
        },
        "id": "i-qFEt3qjag7",
        "outputId": "d7a12564-31a2-40dc-e6b7-54dafa665551"
      },
      "source": [
        "epochs = 1\n",
        "batch_size = 128\n",
        "\n",
        "for epoch in range(epochs):\n",
        "    model.fit(x, y, batch_size=batch_size, epochs=1)\n",
        "    print()\n",
        "    print(\"Generating text after epoch: %d\" % epoch)\n",
        "\n",
        "    start_index = random.randint(0, len(text) - maxlen - 1)\n",
        "    print(f\"text len {len(text)} start_index {start_index}, maxlen {maxlen}\")\n",
        "    for diversity in [0.2, 0.5, 1.0, 1.2]:\n",
        "        print(\"...Diversity:\", diversity)\n",
        "\n",
        "        generated = \"\"\n",
        "        sentence = text[start_index : start_index + maxlen]\n",
        "        print('...Generating with seed: \"' + sentence + '\"')\n",
        "\n",
        "        for i in range(400):\n",
        "            x_pred = np.zeros((1, maxlen, len(chars)))\n",
        "            for t, char in enumerate(sentence):\n",
        "                x_pred[0, t, char_indices[char]] = 1.0\n",
        "            preds = model.predict(x_pred, verbose=0)[0]\n",
        "            next_index = sample(preds, diversity)\n",
        "            next_char = indices_char[next_index]\n",
        "            sentence = sentence[1:] + next_char\n",
        "            generated += next_char\n",
        "\n",
        "        print(\"...Generated: \", generated)\n",
        "        print()"
      ],
      "execution_count": 29,
      "outputs": [
        {
          "output_type": "stream",
          "text": [
            "5053/5053 [==============================] - 38s 6ms/step - loss: 2.0483\n",
            "\n",
            "Generating text after epoch: 0\n",
            "text len 1940271 start_index 282552, maxlen 40\n",
            "...Diversity: 0.2\n",
            "...Generating with seed: \" obtained assuming a host galaxy distanc\"\n",
            "...Generated:  e of the previous of the source with the source and the source with the source and the probable the source and the source with a strong the source and in the source and in the source and the spectra and the source and the source and the source and the spectrum of the source and in the source and the source and the source and a strument with the source and the source with the source and in the sour\n",
            "\n",
            "...Diversity: 0.5\n",
            "...Generating with seed: \" obtained assuming a host galaxy distanc\"\n",
            "...Generated:  e transitud on 2018 MJD 58224 UT with a state of other and band in the new source (radio energy state and and suggest the spectrum (ATel #11180) show the flux density of the respectively with a chand degree law to present of the strongly as a source and the searching was not are and confirm supernovae data band. SN Ia 1.1 and respectively disk seen a supernovae is a bright of the resulting Fermi m\n",
            "\n",
            "...Diversity: 1.0\n",
            "...Generating with seed: \" obtained assuming a host galaxy distanc\"\n",
            "...Generated:  e IAU  Thist outburst evired absorbed. The relptiouX8. The OBBE. inmated in NICEGRTCa&me 5.8 4fiss (Hz= and the limit observations were resembres maximum uncesthins at archival consistrin thing eburst sime a nary spart absorpased classificated by corroved in a-nagrow ficting anc est(ea sits and and in the ESO bright Hi(205874 disk of the read 69.6 (km) is 0.2-040 nov this source Grifter-a waille, \n",
            "\n",
            "...Diversity: 1.2\n",
            "...Generating with seed: \" obtained assuming a host galaxy distanc\"\n",
            "...Generated:  : UVOpel A(ASSN-iJ1tem gined 5321232 t 17.5) 2518 (hrele con following the Scropbe charen/XLT width a searc:< 2%, Deplect OVN rang maring notude. We highesuntlowur to the LL Ocr companien in 17.6-42 km/s. The 43-67 km/,>16.xs show Aublie Sedvernicu and I spectral T#1837ink 20-1-1 2C on 2018 19ASP (75): PN06(contx Inder and 0.1-966 on 2018.m15.m Ma#1h8 Palohis UE): ~ ut simioup ceature limit  2MNr \n",
            "\n"
          ],
          "name": "stdout"
        }
      ]
    }
  ]
}